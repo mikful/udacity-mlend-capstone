{
 "cells": [
  {
   "cell_type": "markdown",
   "metadata": {
    "colab_type": "text",
    "id": "rk6Sc9PhsWCV"
   },
   "source": [
    "# Training and Deployment:\n",
    "\n",
    "**Multi-label audio classification fastai2 with Amazon SageMaker**\n",
    "\n",
    "**Note - THIS IS THE GCP DEV VERSION - THE DATA FOLDER IS DIFFERENT IN SAGEMAKER, NEED TO CHANGE TO:**\n",
    "\n",
    "```\n",
    "'../data/train_curated'\n"
   ]
  },
  {
   "cell_type": "markdown",
   "metadata": {
    "colab_type": "text",
    "id": "N_C3LR2lsWCb"
   },
   "source": [
    "The following notebook is based on the AWS demo fastai2 project (with thanks to Matt McClean for the setup instructions):\n",
    "\n",
    "https://github.com/mattmcclean/fastai2-sagemaker-deployment-demo\n",
    "\n",
    "We now need to train and deploy the fastai2 model on Amazon SageMaker. This notebook runs within a fastai2 kernel and environment created by a CloudFormation stack (details in the link below).\n",
    "\n",
    "Using the steps outlined in the above demo repo the notebook will:\n",
    "\n",
    "1. train a model locally with a SageMaker notebook instance\n",
    "2. export our model and upload the model artefacts to S3 \n",
    "3. deploy the model locally to the same notebook instance to test and \n",
    "4. deploy the endpoint to Amazon SageMaker to be deployed in a production setting.\n",
    "\n",
    "**fastai2_audio**\n",
    "\n",
    "The additional requirements of the fastai2_audio package will be dealt with below, using a clone of the following repo:\n",
    "\n",
    "https://github.com/rbracco/fastai2_audio\n",
    "\n",
    "The demo was run and tested by deploying an SageMaker Notebook instance as per the instructions outlined [here] (https://forums.fast.ai/t/platform-amazon-sagemaker-aws/66020).\n",
    "\n",
    "Note - the above link is only accessible as part of the ongoing fastai course for the time being."
   ]
  },
  {
   "cell_type": "markdown",
   "metadata": {
    "colab_type": "text",
    "id": "sqkfnPsxvUG7"
   },
   "source": [
    "## GCP ONLY - INSTALL FASTAI2"
   ]
  },
  {
   "cell_type": "code",
   "execution_count": null,
   "metadata": {
    "colab": {
     "base_uri": "https://localhost:8080/",
     "height": 785
    },
    "colab_type": "code",
    "id": "SLc5PWxdvYkb",
    "outputId": "5b3e647c-e046-40af-d01a-317097f76a99"
   },
   "outputs": [],
   "source": [
    "#Run once per session\n",
    "#In Colab we need to run this as a notebook command )i.e. no '!' infront of 'pip'\n",
    "#This is in comparison to shell commands i.e. with '!' infront of 'pip'\n",
    "!pip install fastai2"
   ]
  },
  {
   "cell_type": "markdown",
   "metadata": {
    "colab_type": "text",
    "id": "MknqAeouvupF"
   },
   "source": [
    "**Download Dataset**\n",
    "\n",
    "https://www.kaggle.com/general/74235"
   ]
  },
  {
   "cell_type": "code",
   "execution_count": null,
   "metadata": {
    "colab": {},
    "colab_type": "code",
    "id": "PjGyfAMOvz6Y"
   },
   "outputs": [],
   "source": [
    "# Install kaggle\n",
    "!pip install -q kaggle"
   ]
  },
  {
   "cell_type": "markdown",
   "metadata": {},
   "source": [
    "Now upload kaggle.json  API file before running next cell:"
   ]
  },
  {
   "cell_type": "code",
   "execution_count": null,
   "metadata": {
    "colab": {},
    "colab_type": "code",
    "id": "Zkh3If8ZwkHk"
   },
   "outputs": [],
   "source": [
    "# Make a directory for the json and choose the JSON file\n",
    "! mkdir ~/.kaggle\n",
    "! cp kaggle.json ~/.kaggle/"
   ]
  },
  {
   "cell_type": "code",
   "execution_count": null,
   "metadata": {
    "colab": {},
    "colab_type": "code",
    "id": "yI2A5sE_wodU"
   },
   "outputs": [],
   "source": [
    " # copy JSON file\n",
    " ! chmod 600 ~/.kaggle/kaggle.json"
   ]
  },
  {
   "cell_type": "code",
   "execution_count": null,
   "metadata": {
    "colab": {
     "base_uri": "https://localhost:8080/",
     "height": 340
    },
    "colab_type": "code",
    "id": "bTFNw5xHwucK",
    "outputId": "5e4cb89b-20d4-4ca0-b4e5-41fbdc3319d7"
   },
   "outputs": [],
   "source": [
    "# Download dataset\n",
    "\n",
    "! kaggle competitions download -c 'freesound-audio-tagging-2019'"
   ]
  },
  {
   "cell_type": "code",
   "execution_count": null,
   "metadata": {
    "colab": {
     "base_uri": "https://localhost:8080/",
     "height": 1000
    },
    "colab_type": "code",
    "id": "ZiKqkBCxz9hs",
    "outputId": "0348c63c-3100-40e3-b320-074d6d8c0029"
   },
   "outputs": [],
   "source": [
    "!unzip -d data freesound-audio-tagging-2019.zip # Unzip main data folder"
   ]
  },
  {
   "cell_type": "code",
   "execution_count": null,
   "metadata": {},
   "outputs": [],
   "source": [
    "!unzip -d data/train_curated data/train_curated.zip; # Unzip train curated folder"
   ]
  },
  {
   "cell_type": "code",
   "execution_count": null,
   "metadata": {},
   "outputs": [],
   "source": [
    "!unzip -d data/train_noisy data/train_noisy.zip; # Unzip train noisy folder"
   ]
  },
  {
   "cell_type": "code",
   "execution_count": null,
   "metadata": {
    "colab": {
     "base_uri": "https://localhost:8080/",
     "height": 34
    },
    "colab_type": "code",
    "id": "p2l6XDyj0n8c",
    "outputId": "be2bf536-fd89-4c88-957b-32b16ac89fcb"
   },
   "outputs": [],
   "source": [
    "import os\n",
    "files = os.listdir('data/train_curated')\n",
    "len(files)"
   ]
  },
  {
   "cell_type": "code",
   "execution_count": null,
   "metadata": {},
   "outputs": [],
   "source": [
    "files = os.listdir('data/train_noisy')\n",
    "len(files)"
   ]
  },
  {
   "cell_type": "markdown",
   "metadata": {
    "colab_type": "text",
    "id": "ycpfB-G4sWCd"
   },
   "source": [
    "## Install the fastai2_audio library\n",
    "\n",
    "We need to install the fastai2_audio library to the local kernel/environment for the analysis\n",
    "\n",
    "Note the lack of `!pip` (that install to the root env) but rather standard `pip` (that installs to the current kernl/env)..."
   ]
  },
  {
   "cell_type": "code",
   "execution_count": null,
   "metadata": {
    "colab": {
     "base_uri": "https://localhost:8080/",
     "height": 1000
    },
    "colab_type": "code",
    "id": "B7ogGfTcsWCf",
    "outputId": "57043798-2e09-45d0-f5b6-72b04bf99b8b",
    "scrolled": true
   },
   "outputs": [],
   "source": [
    "#In Colab we need to run this as a shell command i.e. with '!' infront of 'pip'\n",
    "\n",
    "!pip install git+https://github.com/mikful/fastai2_audio.git"
   ]
  },
  {
   "cell_type": "code",
   "execution_count": null,
   "metadata": {
    "colab": {},
    "colab_type": "code",
    "id": "F2gUqCfWsWCm"
   },
   "outputs": [],
   "source": [
    "# Solving an OSError problem with Librosa SoundFile dependency (libsndfile)\n",
    "# SageMaker/GCP Only\n",
    "\n",
    "!conda install -c conda-forge libsndfile --yes"
   ]
  },
  {
   "cell_type": "markdown",
   "metadata": {
    "colab_type": "text",
    "id": "hWCdC9SesWCs"
   },
   "source": [
    "# Train the fastai model locally\n",
    "First we will train our fastai model on the notebook instance using the kernel named `fastai2`.\n",
    "\n",
    "The audio package analysis follows guidance given within: https://github.com/muellerzr/Practical-Deep-Learning-for-Coders-2.0/blob/master/Computer%20Vision/07_Audio.ipynb"
   ]
  },
  {
   "cell_type": "code",
   "execution_count": 1,
   "metadata": {
    "colab": {},
    "colab_type": "code",
    "id": "CjNZwPO-sWCu"
   },
   "outputs": [],
   "source": [
    "from fastai2.vision.all import *\n",
    "from fastai2_audio.core import *\n",
    "from fastai2_audio.augment import *"
   ]
  },
  {
   "cell_type": "markdown",
   "metadata": {
    "colab_type": "text",
    "id": "wrVPGqs4sWC0"
   },
   "source": [
    "**Create Dataframes from csv files**\n",
    "\n",
    "**Note: Delete Corrupted and empty files list in Kaggle Competition Note**\n",
    "\n",
    "*The following 5 audio files in the curated train set have a wrong label, due to a bug in the file renaming process: f76181c4.wav, 77b925c2.wav, 6a1f682a.wav, c7db12aa.wav, 7752cc8a.wav*\n",
    "\n",
    "*The audio file 1d44b0bd.wav in the curated train set was found to be corrupted (contains no signal) due to an error in format conversion.*"
   ]
  },
  {
   "cell_type": "code",
   "execution_count": 2,
   "metadata": {
    "colab": {},
    "colab_type": "code",
    "id": "CtlGpnA4sWC2"
   },
   "outputs": [],
   "source": [
    "# Create train Dataframes\n",
    "\n",
    "def create_train_curated_df(file, remove_files=[]):\n",
    "    df_curated = pd.read_csv(file)\n",
    "    df_curated['fname'] = 'data/train_curated/' + df_curated['fname'] \n",
    "    df_curated.set_index('fname', inplace=True)\n",
    "    df_curated.loc[remove_files]\n",
    "    df_curated.drop(index=remove_files, inplace=True)\n",
    "    df_curated.reset_index(inplace=True)\n",
    "    return df_curated\n",
    "\n",
    "def create_train_noisy_df(file):\n",
    "    df_noisy = pd.read_csv(file)\n",
    "    df_noisy['fname'] = 'data/train_noisy/' + df_noisy['fname'] \n",
    "    return df_noisy\n",
    "\n",
    "\n",
    "def create_combined_train_df(file_curated, file_noisy, remove_files=[]):\n",
    "    df_curated = pd.read_csv(file_curated)\n",
    "    df_curated['fname'] = 'data/train_curated/' + df_curated['fname'] \n",
    "    \n",
    "    df_noisy = pd.read_csv(file_noisy)\n",
    "    df_noisy['fname'] = 'data/train_noisy/' + df_noisy['fname'] \n",
    "    \n",
    "    df_combined = df_curated.append(df_noisy)\n",
    "    df_combined.set_index('fname', inplace=True)\n",
    "    df_combined.loc[remove_files]\n",
    "    df_combined.drop(index=remove_files, inplace=True)\n",
    "    df_combined.reset_index(inplace=True)\n",
    "    return df_combined"
   ]
  },
  {
   "cell_type": "code",
   "execution_count": 3,
   "metadata": {},
   "outputs": [
    {
     "data": {
      "text/html": [
       "<div>\n",
       "<style scoped>\n",
       "    .dataframe tbody tr th:only-of-type {\n",
       "        vertical-align: middle;\n",
       "    }\n",
       "\n",
       "    .dataframe tbody tr th {\n",
       "        vertical-align: top;\n",
       "    }\n",
       "\n",
       "    .dataframe thead th {\n",
       "        text-align: right;\n",
       "    }\n",
       "</style>\n",
       "<table border=\"1\" class=\"dataframe\">\n",
       "  <thead>\n",
       "    <tr style=\"text-align: right;\">\n",
       "      <th></th>\n",
       "      <th>fname</th>\n",
       "      <th>labels</th>\n",
       "    </tr>\n",
       "  </thead>\n",
       "  <tbody>\n",
       "    <tr>\n",
       "      <th>0</th>\n",
       "      <td>data/train_curated/0006ae4e.wav</td>\n",
       "      <td>Bark</td>\n",
       "    </tr>\n",
       "    <tr>\n",
       "      <th>1</th>\n",
       "      <td>data/train_curated/0019ef41.wav</td>\n",
       "      <td>Raindrop</td>\n",
       "    </tr>\n",
       "    <tr>\n",
       "      <th>2</th>\n",
       "      <td>data/train_curated/001ec0ad.wav</td>\n",
       "      <td>Finger_snapping</td>\n",
       "    </tr>\n",
       "    <tr>\n",
       "      <th>3</th>\n",
       "      <td>data/train_curated/0026c7cb.wav</td>\n",
       "      <td>Run</td>\n",
       "    </tr>\n",
       "    <tr>\n",
       "      <th>4</th>\n",
       "      <td>data/train_curated/0026f116.wav</td>\n",
       "      <td>Finger_snapping</td>\n",
       "    </tr>\n",
       "  </tbody>\n",
       "</table>\n",
       "</div>"
      ],
      "text/plain": [
       "                             fname           labels\n",
       "0  data/train_curated/0006ae4e.wav             Bark\n",
       "1  data/train_curated/0019ef41.wav         Raindrop\n",
       "2  data/train_curated/001ec0ad.wav  Finger_snapping\n",
       "3  data/train_curated/0026c7cb.wav              Run\n",
       "4  data/train_curated/0026f116.wav  Finger_snapping"
      ]
     },
     "execution_count": 3,
     "metadata": {},
     "output_type": "execute_result"
    }
   ],
   "source": [
    "# Create Curated training set df\n",
    "\n",
    "# Remove corrupt and empty files as per Kaggle\n",
    "\n",
    "remove_files = ['f76181c4.wav', '77b925c2.wav', '6a1f682a.wav', 'c7db12aa.wav', '7752cc8a.wav', '1d44b0bd.wav']\n",
    "remove_files = ['data/train_curated/' + i for i in remove_files]\n",
    "df_curated = create_train_curated_df('data/train_curated.csv', remove_files=remove_files)\n",
    "df_curated.head()"
   ]
  },
  {
   "cell_type": "code",
   "execution_count": 4,
   "metadata": {},
   "outputs": [
    {
     "data": {
      "text/html": [
       "<div>\n",
       "<style scoped>\n",
       "    .dataframe tbody tr th:only-of-type {\n",
       "        vertical-align: middle;\n",
       "    }\n",
       "\n",
       "    .dataframe tbody tr th {\n",
       "        vertical-align: top;\n",
       "    }\n",
       "\n",
       "    .dataframe thead th {\n",
       "        text-align: right;\n",
       "    }\n",
       "</style>\n",
       "<table border=\"1\" class=\"dataframe\">\n",
       "  <thead>\n",
       "    <tr style=\"text-align: right;\">\n",
       "      <th></th>\n",
       "      <th>fname</th>\n",
       "      <th>labels</th>\n",
       "    </tr>\n",
       "  </thead>\n",
       "  <tbody>\n",
       "    <tr>\n",
       "      <th>count</th>\n",
       "      <td>4964</td>\n",
       "      <td>4964</td>\n",
       "    </tr>\n",
       "    <tr>\n",
       "      <th>unique</th>\n",
       "      <td>4964</td>\n",
       "      <td>213</td>\n",
       "    </tr>\n",
       "    <tr>\n",
       "      <th>top</th>\n",
       "      <td>data/train_curated/0853b5b2.wav</td>\n",
       "      <td>Keys_jangling</td>\n",
       "    </tr>\n",
       "    <tr>\n",
       "      <th>freq</th>\n",
       "      <td>1</td>\n",
       "      <td>75</td>\n",
       "    </tr>\n",
       "  </tbody>\n",
       "</table>\n",
       "</div>"
      ],
      "text/plain": [
       "                                  fname         labels\n",
       "count                              4964           4964\n",
       "unique                             4964            213\n",
       "top     data/train_curated/0853b5b2.wav  Keys_jangling\n",
       "freq                                  1             75"
      ]
     },
     "execution_count": 4,
     "metadata": {},
     "output_type": "execute_result"
    }
   ],
   "source": [
    "df_curated.describe()"
   ]
  },
  {
   "cell_type": "code",
   "execution_count": 5,
   "metadata": {},
   "outputs": [
    {
     "data": {
      "text/html": [
       "<div>\n",
       "<style scoped>\n",
       "    .dataframe tbody tr th:only-of-type {\n",
       "        vertical-align: middle;\n",
       "    }\n",
       "\n",
       "    .dataframe tbody tr th {\n",
       "        vertical-align: top;\n",
       "    }\n",
       "\n",
       "    .dataframe thead th {\n",
       "        text-align: right;\n",
       "    }\n",
       "</style>\n",
       "<table border=\"1\" class=\"dataframe\">\n",
       "  <thead>\n",
       "    <tr style=\"text-align: right;\">\n",
       "      <th></th>\n",
       "      <th>fname</th>\n",
       "      <th>labels</th>\n",
       "    </tr>\n",
       "  </thead>\n",
       "  <tbody>\n",
       "    <tr>\n",
       "      <th>0</th>\n",
       "      <td>data/train_noisy/00097e21.wav</td>\n",
       "      <td>Bathtub_(filling_or_washing)</td>\n",
       "    </tr>\n",
       "    <tr>\n",
       "      <th>1</th>\n",
       "      <td>data/train_noisy/000b6cfb.wav</td>\n",
       "      <td>Motorcycle</td>\n",
       "    </tr>\n",
       "    <tr>\n",
       "      <th>2</th>\n",
       "      <td>data/train_noisy/00116cd2.wav</td>\n",
       "      <td>Marimba_and_xylophone,Glockenspiel</td>\n",
       "    </tr>\n",
       "    <tr>\n",
       "      <th>3</th>\n",
       "      <td>data/train_noisy/00127d14.wav</td>\n",
       "      <td>Water_tap_and_faucet,Sink_(filling_or_washing)</td>\n",
       "    </tr>\n",
       "    <tr>\n",
       "      <th>4</th>\n",
       "      <td>data/train_noisy/0019adae.wav</td>\n",
       "      <td>Raindrop</td>\n",
       "    </tr>\n",
       "  </tbody>\n",
       "</table>\n",
       "</div>"
      ],
      "text/plain": [
       "                           fname  \\\n",
       "0  data/train_noisy/00097e21.wav   \n",
       "1  data/train_noisy/000b6cfb.wav   \n",
       "2  data/train_noisy/00116cd2.wav   \n",
       "3  data/train_noisy/00127d14.wav   \n",
       "4  data/train_noisy/0019adae.wav   \n",
       "\n",
       "                                           labels  \n",
       "0                    Bathtub_(filling_or_washing)  \n",
       "1                                      Motorcycle  \n",
       "2              Marimba_and_xylophone,Glockenspiel  \n",
       "3  Water_tap_and_faucet,Sink_(filling_or_washing)  \n",
       "4                                        Raindrop  "
      ]
     },
     "execution_count": 5,
     "metadata": {},
     "output_type": "execute_result"
    }
   ],
   "source": [
    "# Create train_noise Dataframe\n",
    "df_noisy = create_train_noisy_df('data/train_noisy.csv')\n",
    "df_noisy.head()"
   ]
  },
  {
   "cell_type": "code",
   "execution_count": 6,
   "metadata": {},
   "outputs": [
    {
     "data": {
      "text/html": [
       "<div>\n",
       "<style scoped>\n",
       "    .dataframe tbody tr th:only-of-type {\n",
       "        vertical-align: middle;\n",
       "    }\n",
       "\n",
       "    .dataframe tbody tr th {\n",
       "        vertical-align: top;\n",
       "    }\n",
       "\n",
       "    .dataframe thead th {\n",
       "        text-align: right;\n",
       "    }\n",
       "</style>\n",
       "<table border=\"1\" class=\"dataframe\">\n",
       "  <thead>\n",
       "    <tr style=\"text-align: right;\">\n",
       "      <th></th>\n",
       "      <th>fname</th>\n",
       "      <th>labels</th>\n",
       "    </tr>\n",
       "  </thead>\n",
       "  <tbody>\n",
       "    <tr>\n",
       "      <th>count</th>\n",
       "      <td>19815</td>\n",
       "      <td>19815</td>\n",
       "    </tr>\n",
       "    <tr>\n",
       "      <th>unique</th>\n",
       "      <td>19815</td>\n",
       "      <td>1168</td>\n",
       "    </tr>\n",
       "    <tr>\n",
       "      <th>top</th>\n",
       "      <td>data/train_noisy/3109fb7c.wav</td>\n",
       "      <td>Waves_and_surf</td>\n",
       "    </tr>\n",
       "    <tr>\n",
       "      <th>freq</th>\n",
       "      <td>1</td>\n",
       "      <td>291</td>\n",
       "    </tr>\n",
       "  </tbody>\n",
       "</table>\n",
       "</div>"
      ],
      "text/plain": [
       "                                fname          labels\n",
       "count                           19815           19815\n",
       "unique                          19815            1168\n",
       "top     data/train_noisy/3109fb7c.wav  Waves_and_surf\n",
       "freq                                1             291"
      ]
     },
     "execution_count": 6,
     "metadata": {},
     "output_type": "execute_result"
    }
   ],
   "source": [
    "df_noisy.describe()"
   ]
  },
  {
   "cell_type": "code",
   "execution_count": 7,
   "metadata": {
    "colab": {
     "base_uri": "https://localhost:8080/",
     "height": 204
    },
    "colab_type": "code",
    "id": "XHGsUB9UQXkp",
    "outputId": "2218c92e-1737-4bcc-a5f4-48a016ea5405"
   },
   "outputs": [
    {
     "data": {
      "text/html": [
       "<div>\n",
       "<style scoped>\n",
       "    .dataframe tbody tr th:only-of-type {\n",
       "        vertical-align: middle;\n",
       "    }\n",
       "\n",
       "    .dataframe tbody tr th {\n",
       "        vertical-align: top;\n",
       "    }\n",
       "\n",
       "    .dataframe thead th {\n",
       "        text-align: right;\n",
       "    }\n",
       "</style>\n",
       "<table border=\"1\" class=\"dataframe\">\n",
       "  <thead>\n",
       "    <tr style=\"text-align: right;\">\n",
       "      <th></th>\n",
       "      <th>fname</th>\n",
       "      <th>labels</th>\n",
       "    </tr>\n",
       "  </thead>\n",
       "  <tbody>\n",
       "    <tr>\n",
       "      <th>0</th>\n",
       "      <td>data/train_curated/0006ae4e.wav</td>\n",
       "      <td>Bark</td>\n",
       "    </tr>\n",
       "    <tr>\n",
       "      <th>1</th>\n",
       "      <td>data/train_curated/0019ef41.wav</td>\n",
       "      <td>Raindrop</td>\n",
       "    </tr>\n",
       "    <tr>\n",
       "      <th>2</th>\n",
       "      <td>data/train_curated/001ec0ad.wav</td>\n",
       "      <td>Finger_snapping</td>\n",
       "    </tr>\n",
       "    <tr>\n",
       "      <th>3</th>\n",
       "      <td>data/train_curated/0026c7cb.wav</td>\n",
       "      <td>Run</td>\n",
       "    </tr>\n",
       "    <tr>\n",
       "      <th>4</th>\n",
       "      <td>data/train_curated/0026f116.wav</td>\n",
       "      <td>Finger_snapping</td>\n",
       "    </tr>\n",
       "  </tbody>\n",
       "</table>\n",
       "</div>"
      ],
      "text/plain": [
       "                             fname           labels\n",
       "0  data/train_curated/0006ae4e.wav             Bark\n",
       "1  data/train_curated/0019ef41.wav         Raindrop\n",
       "2  data/train_curated/001ec0ad.wav  Finger_snapping\n",
       "3  data/train_curated/0026c7cb.wav              Run\n",
       "4  data/train_curated/0026f116.wav  Finger_snapping"
      ]
     },
     "execution_count": 7,
     "metadata": {},
     "output_type": "execute_result"
    }
   ],
   "source": [
    "# Create Combined training set df\n",
    "\n",
    "# Remove corrupt and empty files as per Kaggle\n",
    "remove_files = ['f76181c4.wav', '77b925c2.wav', '6a1f682a.wav', 'c7db12aa.wav', '7752cc8a.wav', '1d44b0bd.wav']\n",
    "remove_files = ['data/train_curated/' + i for i in remove_files]\n",
    "df_combined = create_combined_train_df(file_curated = 'data/train_curated.csv', \n",
    "                                       file_noisy = 'data/train_noisy.csv', \n",
    "                                       remove_files=remove_files)\n",
    "df_combined.head()"
   ]
  },
  {
   "cell_type": "code",
   "execution_count": 8,
   "metadata": {
    "colab": {
     "base_uri": "https://localhost:8080/",
     "height": 173
    },
    "colab_type": "code",
    "id": "0Ch1DblxsWDP",
    "outputId": "67392487-c1da-4453-8486-60c2d5bfb109"
   },
   "outputs": [
    {
     "data": {
      "text/html": [
       "<div>\n",
       "<style scoped>\n",
       "    .dataframe tbody tr th:only-of-type {\n",
       "        vertical-align: middle;\n",
       "    }\n",
       "\n",
       "    .dataframe tbody tr th {\n",
       "        vertical-align: top;\n",
       "    }\n",
       "\n",
       "    .dataframe thead th {\n",
       "        text-align: right;\n",
       "    }\n",
       "</style>\n",
       "<table border=\"1\" class=\"dataframe\">\n",
       "  <thead>\n",
       "    <tr style=\"text-align: right;\">\n",
       "      <th></th>\n",
       "      <th>fname</th>\n",
       "      <th>labels</th>\n",
       "    </tr>\n",
       "  </thead>\n",
       "  <tbody>\n",
       "    <tr>\n",
       "      <th>count</th>\n",
       "      <td>24779</td>\n",
       "      <td>24779</td>\n",
       "    </tr>\n",
       "    <tr>\n",
       "      <th>unique</th>\n",
       "      <td>24779</td>\n",
       "      <td>1271</td>\n",
       "    </tr>\n",
       "    <tr>\n",
       "      <th>top</th>\n",
       "      <td>data/train_curated/0853b5b2.wav</td>\n",
       "      <td>Waves_and_surf</td>\n",
       "    </tr>\n",
       "    <tr>\n",
       "      <th>freq</th>\n",
       "      <td>1</td>\n",
       "      <td>362</td>\n",
       "    </tr>\n",
       "  </tbody>\n",
       "</table>\n",
       "</div>"
      ],
      "text/plain": [
       "                                  fname          labels\n",
       "count                             24779           24779\n",
       "unique                            24779            1271\n",
       "top     data/train_curated/0853b5b2.wav  Waves_and_surf\n",
       "freq                                  1             362"
      ]
     },
     "execution_count": 8,
     "metadata": {},
     "output_type": "execute_result"
    }
   ],
   "source": [
    "df_combined.describe()"
   ]
  },
  {
   "cell_type": "markdown",
   "metadata": {
    "colab_type": "text",
    "id": "LKr7w6grsWDW"
   },
   "source": [
    "**Now define the data paths**\n",
    "\n",
    "First we're going to try to train with the curated train set only to see the performance. Then we can mix both the curated and noise train set to see the results."
   ]
  },
  {
   "cell_type": "code",
   "execution_count": 9,
   "metadata": {
    "colab": {},
    "colab_type": "code",
    "id": "pqZYefXJsWDd"
   },
   "outputs": [],
   "source": [
    "fnames = df_combined['fname']"
   ]
  },
  {
   "cell_type": "code",
   "execution_count": 10,
   "metadata": {
    "colab": {
     "base_uri": "https://localhost:8080/",
     "height": 119
    },
    "colab_type": "code",
    "id": "uMfhlQd_sWDi",
    "outputId": "8e0438fe-1177-4b00-cc6b-28db9d9d754d"
   },
   "outputs": [
    {
     "data": {
      "text/plain": [
       "0    data/train_curated/0006ae4e.wav\n",
       "1    data/train_curated/0019ef41.wav\n",
       "2    data/train_curated/001ec0ad.wav\n",
       "3    data/train_curated/0026c7cb.wav\n",
       "4    data/train_curated/0026f116.wav\n",
       "Name: fname, dtype: object"
      ]
     },
     "execution_count": 10,
     "metadata": {},
     "output_type": "execute_result"
    }
   ],
   "source": [
    "fnames[:5]"
   ]
  },
  {
   "cell_type": "code",
   "execution_count": 11,
   "metadata": {
    "colab": {
     "base_uri": "https://localhost:8080/",
     "height": 34
    },
    "colab_type": "code",
    "id": "B4Cu9WwKsWDs",
    "outputId": "9c124cd0-1f9d-4e7a-d837-7af7243864ff"
   },
   "outputs": [
    {
     "data": {
      "text/plain": [
       "24779"
      ]
     },
     "execution_count": 11,
     "metadata": {},
     "output_type": "execute_result"
    }
   ],
   "source": [
    "len(fnames)"
   ]
  },
  {
   "cell_type": "markdown",
   "metadata": {
    "colab_type": "text",
    "id": "DymZvsgasWEV"
   },
   "source": [
    "## Using the DataBlock API:\n",
    "\n",
    "* We'll want to use our same transforms we used for the Pipeline\n",
    "* An appropriate getter\n",
    "* An appropriate labeller\n",
    "\n",
    "The following datablock method references the new and wonderful **\"Fastbook\"** by fastai:\n",
    "\n",
    "https://github.com/fastai/fastbook/blob/master/06_multicat.ipynb\n",
    "\n",
    "and the above mentioned Audio notebook by Z Mueller.\n",
    "\n",
    "> ### Constructing a data block\n",
    ">\n",
    ">How do we convert from a DataFrame object to a DataLoaders object? PyTorch and fastai have two main classes for representing and accessing a training set or validation set:\n",
    ">\n",
    ">* **Dataset**:: a collection which returns a tuple of your independent and dependent variable for a single item\n",
    ">* **DataLoader**:: an iterator which provides a stream of mini batches, where each mini batch is a couple of a batch of independent variables and a batch of dependent variables\n",
    ">\n",
    ">On top of these, fastai provides two classes for bringing your training and validation sets together:\n",
    ">\n",
    ">* **Datasets**:: an object which contains a training Dataset and a validation Dataset\n",
    ">* **DataLoaders**:: an object which contains a training DataLoader and a validation DataLoader\n",
    ">\n",
    ">Since a DataLoader builds on top of a Dataset, and adds additional functionality to it (collating multiple items into a mini batch), it’s often easiest to start by creating and testing Datasets, and then look at DataLoaders after that’s working.\n",
    "\n",
    "\n",
    "The files in this case have multi-labels within the 'labels' column of the dataframe. \n",
    "\n",
    "So we will need to set the multi-labels appropriately in training.\n",
    "\n",
    "First, we create a \"datasets\" object from our dataframe:\n"
   ]
  },
  {
   "cell_type": "markdown",
   "metadata": {
    "colab_type": "text",
    "id": "MNNziPlDsWEp"
   },
   "source": [
    "## Data Augmentation\n",
    "\n",
    "We can use the `SpectrogramTransformer` class to prepare some transforms for us.\n",
    "\n",
    "We need to open the audio file and convert to mel-spectrogramtensors.\n"
   ]
  },
  {
   "cell_type": "code",
   "execution_count": 12,
   "metadata": {
    "colab": {
     "base_uri": "https://localhost:8080/",
     "height": 34
    },
    "colab_type": "code",
    "id": "SwAElDvssWEk",
    "outputId": "0f89679d-1196-4d06-8739-d854bab81325"
   },
   "outputs": [
    {
     "data": {
      "text/plain": [
       "('data/train_noisy/831d3b14.wav', ['Tap'])"
      ]
     },
     "execution_count": 12,
     "metadata": {},
     "output_type": "execute_result"
    }
   ],
   "source": [
    "def get_x(r): return r['fname']\n",
    "def get_y(r): return r['labels'].split(',') # split labels on ','\n",
    "dblock = DataBlock(get_x = get_x, get_y = get_y)\n",
    "dsets = dblock.datasets(df_combined)\n",
    "dsets.train[0]"
   ]
  },
  {
   "cell_type": "code",
   "execution_count": 13,
   "metadata": {
    "colab": {},
    "colab_type": "code",
    "id": "bBqbvEnlsWEr"
   },
   "outputs": [],
   "source": [
    "DBMelSpec = SpectrogramTransformer(mel=True, to_db=True)"
   ]
  },
  {
   "cell_type": "markdown",
   "metadata": {
    "colab_type": "text",
    "id": "K70N8wbbsWEw"
   },
   "source": [
    "Let's take a look at our original settings:"
   ]
  },
  {
   "cell_type": "code",
   "execution_count": 14,
   "metadata": {
    "colab": {
     "base_uri": "https://localhost:8080/",
     "height": 255
    },
    "colab_type": "code",
    "id": "zZ3nQuMnsWEy",
    "outputId": "2e195c75-b6d0-4002-f976-f0709b3f477d"
   },
   "outputs": [
    {
     "data": {
      "text/plain": [
       "{'mel': True,\n",
       " 'to_db': True,\n",
       " 'sample_rate': 16000,\n",
       " 'n_fft': 400,\n",
       " 'win_length': 400,\n",
       " 'hop_length': 200,\n",
       " 'f_min': 0.0,\n",
       " 'f_max': None,\n",
       " 'pad': 0,\n",
       " 'n_mels': 128,\n",
       " 'window_fn': <function _VariableFunctions.hann_window>,\n",
       " 'wkwargs': None,\n",
       " 'stype': 'power',\n",
       " 'top_db': None}"
      ]
     },
     "execution_count": 14,
     "metadata": {},
     "output_type": "execute_result"
    }
   ],
   "source": [
    "cfg = AudioConfig.BasicMelSpectrogram()\n",
    "aud2spec = AudioToSpec.from_cfg(cfg)\n",
    "aud2spec.settings"
   ]
  },
  {
   "cell_type": "code",
   "execution_count": 15,
   "metadata": {
    "colab": {},
    "colab_type": "code",
    "id": "sLvDRLFpsWE4"
   },
   "outputs": [],
   "source": [
    "aud2spec = DBMelSpec(f_max=8000, f_min=20, n_mels=128, n_fft=1024, hop_length=128, top_db=90)"
   ]
  },
  {
   "cell_type": "markdown",
   "metadata": {
    "colab_type": "text",
    "id": "oZTtxkoWsWE8"
   },
   "source": [
    "For our transforms, we'll use:\n",
    "* `RemoveSilence`\n",
    "  * Splits a signal at points of silence more than 2 * `pad_ms` (default is 20)\n",
    "* `CropSignal`\n",
    "  * Crops a signal by `duration` and adds padding if needed\n",
    "* `aud2spec`\n",
    "  * Our `SpectrogramTransformer` with parameters\n",
    "* `MaskTime`\n",
    "  * Wrapper for `MaskFre`, which applies `einsum` operations\n",
    "* `MaskFreq`\n",
    "  * [SpecAugment Time Masking](https://arxiv.org/abs/1904.08779)"
   ]
  },
  {
   "cell_type": "markdown",
   "metadata": {
    "colab_type": "text",
    "id": "jwKcBc8BsWE_"
   },
   "source": [
    "Let's look a bit more at the padding `CropSignal` uses:\n",
    "\n",
    "There are three different types:\n",
    "* `AudioPadTypes.Zeros`: The default, random zeros before and after\n",
    "* `AudioPadType.Repeat`: Repeat the signal until proper length (great for coustic scene classification and voice recognition, terrible for speech recognition)\n",
    "* `AudioPadtype.ZerosAfter`: This is the default for many other libraries, just pad with zeros until you get the specified length."
   ]
  },
  {
   "cell_type": "code",
   "execution_count": 16,
   "metadata": {
    "colab": {},
    "colab_type": "code",
    "id": "QYCrc0hAsWFB"
   },
   "outputs": [],
   "source": [
    "item_tfms = [RemoveSilence(), CropSignal(4000, pad_mode='Repeat'), aud2spec, MaskTime(num_masks=1, size=100), MaskFreq(num_masks=1, size=10)]"
   ]
  },
  {
   "cell_type": "markdown",
   "metadata": {},
   "source": [
    "**Note: After some testing with different numbers of frequency masks and sizes, the above settings were found to be optimal for the Curated Train Set.**"
   ]
  },
  {
   "cell_type": "markdown",
   "metadata": {
    "colab_type": "text",
    "id": "bMhu6Ke8sWFH"
   },
   "source": [
    "Now let's build our `DataBlock`\n",
    "\n",
    "The block type can be used here, combining the `AudioBlock` for the audio transforms and the `MultiCategoryBlock` for multi-label classification. This type of block expects to receive a list of strings for the different labels."
   ]
  },
  {
   "cell_type": "code",
   "execution_count": 17,
   "metadata": {
    "colab": {
     "base_uri": "https://localhost:8080/",
     "height": 119
    },
    "colab_type": "code",
    "id": "jL9VQSW7sWFW",
    "outputId": "6cfbd276-4e98-47b7-bb46-2de224d552cf"
   },
   "outputs": [
    {
     "data": {
      "text/plain": [
       "(AudioTensor([[-0.0133, -0.0136, -0.0135,  ...,  0.0033,  0.0074,  0.0049]]),\n",
       " TensorMultiCategory([0., 0., 0., 0., 0., 0., 0., 0., 0., 0., 0., 0., 0., 0., 0., 0., 0., 0.,\n",
       "         0., 0., 0., 0., 0., 0., 0., 0., 0., 0., 0., 0., 0., 0., 0., 0., 0., 0.,\n",
       "         0., 0., 0., 0., 0., 0., 0., 0., 0., 0., 0., 0., 0., 0., 0., 0., 1., 0.,\n",
       "         0., 0., 0., 0., 0., 0., 0., 0., 0., 0., 0., 0., 0., 0., 0., 0., 0., 0.,\n",
       "         0., 0., 0., 0., 0., 0., 0., 0.]))"
      ]
     },
     "execution_count": 17,
     "metadata": {},
     "output_type": "execute_result"
    }
   ],
   "source": [
    "dblock = DataBlock(blocks=(AudioBlock, MultiCategoryBlock),\n",
    "                    splitter=RandomSplitter(),\n",
    "                    get_x=get_x,\n",
    "                    get_y=get_y,\n",
    "                    item_tfms = item_tfms)\n",
    "\n",
    "# dsets = dblock.datasets(df_curated)\n",
    "dsets = dblock.datasets(df_combined)\n",
    "dsets.train[0]"
   ]
  },
  {
   "cell_type": "code",
   "execution_count": 18,
   "metadata": {
    "colab": {
     "base_uri": "https://localhost:8080/",
     "height": 34
    },
    "colab_type": "code",
    "id": "XMM9CBdkrkuq",
    "outputId": "fa3d97f3-7271-4764-84d9-6dd533abe01b"
   },
   "outputs": [
    {
     "data": {
      "text/plain": [
       "(torch.Size([1, 17640]), torch.Size([80]), 19824)"
      ]
     },
     "execution_count": 18,
     "metadata": {},
     "output_type": "execute_result"
    }
   ],
   "source": [
    "# Let's see what size the training and validation dataset items have\n",
    "\n",
    "xt,yt = dsets.train[0] # xt = AudioTensor, yt = TensorMultiCategory\n",
    "xt.shape,yt.shape,len(dsets.train) # show shapes and dataset size (no. items)"
   ]
  },
  {
   "cell_type": "code",
   "execution_count": 19,
   "metadata": {
    "colab": {
     "base_uri": "https://localhost:8080/",
     "height": 34
    },
    "colab_type": "code",
    "id": "5ij52qdqrpO4",
    "outputId": "cde40982-3a58-4529-f341-426159d80e49"
   },
   "outputs": [
    {
     "data": {
      "text/plain": [
       "(torch.Size([1, 661500]), torch.Size([80]), 4955)"
      ]
     },
     "execution_count": 19,
     "metadata": {},
     "output_type": "execute_result"
    }
   ],
   "source": [
    "xv,yv = dsets.valid[0]\n",
    "xv.shape,yv.shape,len(dsets.valid)"
   ]
  },
  {
   "cell_type": "markdown",
   "metadata": {
    "colab_type": "text",
    "id": "hruUKJizsWFP"
   },
   "source": [
    "In the above we can see the created audiotensor and the one-hot encoded labels: TensorMultiCategory.\n",
    "\n",
    "Let’s check what the categories represent for this example (we are using the convenient torch.where function, which tells us all of the indices where our condition is true or false). \n",
    "\n",
    "With numpy arrays, PyTorch tensors, and fastai’s L class, you can index directly using a list or vector, which makes a lot of code (such as this example) much clearer and more concise."
   ]
  },
  {
   "cell_type": "code",
   "execution_count": 20,
   "metadata": {
    "colab": {
     "base_uri": "https://localhost:8080/",
     "height": 34
    },
    "colab_type": "code",
    "id": "vv9NZzlisWFQ",
    "outputId": "eb74cb70-4c6a-4675-b5d7-b09b15fd6002"
   },
   "outputs": [
    {
     "data": {
      "text/plain": [
       "(#1) ['Printer']"
      ]
     },
     "execution_count": 20,
     "metadata": {},
     "output_type": "execute_result"
    }
   ],
   "source": [
    "idxs = torch.where(dsets.train[0][1]==1.)[0]\n",
    "dsets.train.vocab[idxs]"
   ]
  },
  {
   "cell_type": "markdown",
   "metadata": {
    "colab_type": "text",
    "id": "4wFVA6vcsWFV"
   },
   "source": [
    "**Now we define our DataLoader**\n",
    "\n",
    "A `DataLoader` collates the items from a `Dataset` into a mini batch. This is a tuple of tensors, where each tensor simply stacks the items from that location in the `Dataset` item. Now that we have confirmed that the individual items look okay there's one more step we need to ensure we can create our DataLoaders."
   ]
  },
  {
   "cell_type": "code",
   "execution_count": 21,
   "metadata": {
    "colab": {},
    "colab_type": "code",
    "id": "bqByg8lOrbcC"
   },
   "outputs": [],
   "source": [
    "dls = dblock.dataloaders(df_combined, bs=32)\n",
    "# dls = dblock.dataloaders(df_noisy, bs=64)"
   ]
  },
  {
   "cell_type": "code",
   "execution_count": 22,
   "metadata": {
    "colab": {
     "base_uri": "https://localhost:8080/",
     "height": 34
    },
    "colab_type": "code",
    "id": "I2tE18eJteRj",
    "outputId": "856b37b5-8b92-4adc-90fe-360c9a992c1c"
   },
   "outputs": [
    {
     "data": {
      "text/plain": [
       "torch.Size([32, 1, 128, 1379])"
      ]
     },
     "execution_count": 22,
     "metadata": {},
     "output_type": "execute_result"
    }
   ],
   "source": [
    "# Let's check our batch shape\n",
    "dls.one_batch()[0].shape"
   ]
  },
  {
   "cell_type": "markdown",
   "metadata": {
    "colab_type": "text",
    "id": "CPI4hMd6sWFe"
   },
   "source": [
    "Let's look at some augmented data:"
   ]
  },
  {
   "cell_type": "code",
   "execution_count": 23,
   "metadata": {
    "colab": {
     "base_uri": "https://localhost:8080/",
     "height": 902
    },
    "colab_type": "code",
    "id": "0NwIwn6qsWFh",
    "outputId": "47aada5a-f7da-4885-ab85-cb0dbb2adaec",
    "scrolled": true
   },
   "outputs": [
    {
     "data": {
      "image/png": "[encoded data removed]",
      "text/plain": [
       "<Figure size 432x288 with 2 Axes>"
      ]
     },
     "metadata": {
      "needs_background": "light"
     },
     "output_type": "display_data"
    },
    {
     "data": {
      "image/png": "[encoded data removed]",
      "text/plain": [
       "<Figure size 432x288 with 2 Axes>"
      ]
     },
     "metadata": {
      "needs_background": "light"
     },
     "output_type": "display_data"
    },
    {
     "data": {
      "image/png": "[encoded data removed]",
      "text/plain": [
       "<Figure size 432x288 with 2 Axes>"
      ]
     },
     "metadata": {
      "needs_background": "light"
     },
     "output_type": "display_data"
    },
    {
     "name": "stdout",
     "output_type": "stream",
     "text": [
      "Frying_(food)\n",
      "Chewing_and_mastication\n",
      "Sigh\n"
     ]
    }
   ],
   "source": [
    "dls.show_batch(max_n=3)"
   ]
  },
  {
   "cell_type": "markdown",
   "metadata": {
    "colab_type": "text",
    "id": "sGmeWPMtsWFq"
   },
   "source": [
    "## Training\n",
    "\n",
    "Now that we have our `Dataloaders`, we need to make a model. We'll make a function that changes a `Learner`'s first layer to accept a 1 channel input.\n",
    "\n",
    "Let's make an audio_learner function which is similar to a cnn_learner. In addition, the learner will need the Binary Cross Entropy Loss, so we will need to combine both the approach from the fastai multicat notebook:\n",
    "\n",
    "https://github.com/fastai/fastbook/blob/master/06_multicat.ipynb\n",
    "\n",
    "and the fastai2 audio learner creation.\n",
    "\n",
    "This will need the following steps:\n",
    "\n",
    "\n",
    "\n",
    "1.   Create a standard CNN Learner\n",
    "2.   Get the activation sizes from a single mini-batch\n",
    "3. Pass the activation sizes to the BCELoss Function\n",
    "4. Pass the BCE Loss function to the `audiolearner` function, which augments the Leaner to accept a single channel input\n",
    "\n",
    "\n"
   ]
  },
  {
   "cell_type": "markdown",
   "metadata": {
    "colab_type": "text",
    "id": "GrWiZtsLsWF1"
   },
   "source": [
    "**Note on Multi-category Loss Function**\n",
    "\n",
    "Fastbook:\n",
    "\n",
    ">We also saw that the model in a Learner is generally an object of a class inheriting from nn.Module, and that you can call it using parentheses and it will return the activations of a model. You should pass it your independent variable, as a mini batch. We can try it out by grabbing a mini batch from our DataLoader, and then passing it to the model:\n",
    "\n",
    ">Note that because we have a one-hot encoded dependent variable, we can't directly use nll_loss or softmax (and therefore we can't use cross_entropy).\n",
    "\n",
    ">Normally for one-hot encoded targets you'll want F.binary_cross_entropy_with_logits (or nn.BCEWithLogitsLoss), which do both sigmoid and binary cross entropy in a single function, as in our example above.\n",
    "\n",
    "***With a standard learner, we don't normally need to tell fastai to use this loss function since it will be automatically chosen for us using the DataLoaders recognising multiple category labels. However, as we are creating an audio_learner, we need to provide the loss function to the audio_learner() function defined above.***\n",
    "\n",
    ">One change compared to the last chapter is the metric we use: since we are in a multilabel problem, we can't use the accuracy function\n",
    "\n",
    ">The class predicted was the one with the highest activation (this is what argmax does). Here it doesn't work because we could have more than one prediction on a single image. After applying the sigmoid to our activations (to make them between 0 and 1), we need to decide which ones are 0s and which ones are 1s by picking a threshold. Each value above the threshold will be considered as a 1, and each value lower than the threshold will be considered a 0. \n",
    "\n",
    ">If we pass accuracy_multi directly as a metric, it will use the default value for threshold, which is 0.5. We might want to adjust that default and create a new version of accuracy_multi that has a different default. \n",
    "\n",
    ">Picking a threshold is important. If you pick a threshold that's too low, you'll often be failing to select correctly labelled objects. If you pick a threshold that's too high, you'll often be selecting correctly labelled objects. We can see this by changing our metric, and then calling validate, which returns the validation loss and metrics. "
   ]
  },
  {
   "cell_type": "markdown",
   "metadata": {
    "colab_type": "text",
    "id": "F4nHWszjLUxT"
   },
   "source": [
    "In this case, we're going to use BCEWithLogitsLossFlat():\n",
    "\n",
    "```\"Same as `nn.CrossEntropyLoss`, but flattens input and target.\"```\n",
    "\n",
    "say the fastai docs - double check.\n",
    "\n",
    "Also, we change the output to be 80 neurons to match the label amount.\n"
   ]
  },
  {
   "cell_type": "markdown",
   "metadata": {
    "colab_type": "text",
    "id": "zR8iJzhvxmgz"
   },
   "source": [
    "## Using an LWL-wrap Metric\n",
    "\n",
    "For the Kaggle competition the metric used was lwl wrap:\n",
    "\n",
    "_The primary competition metric will be label-weighted label-ranking average precision (lwlrap, pronounced \"Lol wrap\"). This measures the average precision of retrieving a ranked list of relevant labels for each test clip (i.e., the system ranks all the available labels, then the precisions of the ranked lists down to each true label are averaged). This is a generalization of the mean reciprocal rank measure (used in last year’s edition of the competition) for the case where there can be multiple true labels per test item. The novel \"label-weighted\" part means that the overall score is the average over all the labels in the test set, where each label receives equal weight (by contrast, plain lrap gives each test item equal weight, thereby discounting the contribution of individual labels when they appear on the same item as multiple other labels)._\n",
    "\n",
    "_We use label weighting because it allows per-class values to be calculated, and still have the overall metric be expressed as simple average of the per-class metrics (weighted by each label's prior in the test set). For participant’s convenience, a Python implementation of lwlrap is provided in [this](https://colab.research.google.com/drive/1AgPdhSp7ttY18O3fEoHOQKlt_3HJDLi8) public Google Colab._\n",
    "\n",
    "An implementation for fastai is also outlined within this competition kernel, used below:\n",
    "\n",
    "https://www.kaggle.com/daisukelab/cnn-2d-basic-solution-powered-by-fast-ai\n",
    "\n",
    "\n",
    "**Note: we will also need to experiment with the spectrogram augmentation**"
   ]
  },
  {
   "cell_type": "code",
   "execution_count": 24,
   "metadata": {
    "colab": {},
    "colab_type": "code",
    "id": "_dW4TxZtyrfj"
   },
   "outputs": [],
   "source": [
    "# from official code https://colab.research.google.com/drive/1AgPdhSp7ttY18O3fEoHOQKlt_3HJDLi8#scrollTo=cRCaCIb9oguU\n",
    "def _one_sample_positive_class_precisions(scores, truth):\n",
    "    \"\"\"Calculate precisions for each true class for a single sample.\n",
    "\n",
    "    Args:\n",
    "      scores: np.array of (num_classes,) giving the individual classifier scores.\n",
    "      truth: np.array of (num_classes,) bools indicating which classes are true.\n",
    "\n",
    "    Returns:\n",
    "      pos_class_indices: np.array of indices of the true classes for this sample.\n",
    "      pos_class_precisions: np.array of precisions corresponding to each of those\n",
    "        classes.\n",
    "    \"\"\"\n",
    "    num_classes = scores.shape[0]\n",
    "    pos_class_indices = np.flatnonzero(truth > 0)\n",
    "    # Only calculate precisions if there are some true classes.\n",
    "    if not len(pos_class_indices):\n",
    "        return pos_class_indices, np.zeros(0)\n",
    "    # Retrieval list of classes for this sample.\n",
    "    retrieved_classes = np.argsort(scores)[::-1]\n",
    "    # class_rankings[top_scoring_class_index] == 0 etc.\n",
    "    class_rankings = np.zeros(num_classes, dtype=np.int)\n",
    "    class_rankings[retrieved_classes] = range(num_classes)\n",
    "    # Which of these is a true label?\n",
    "    retrieved_class_true = np.zeros(num_classes, dtype=np.bool)\n",
    "    retrieved_class_true[class_rankings[pos_class_indices]] = True\n",
    "    # Num hits for every truncated retrieval list.\n",
    "    retrieved_cumulative_hits = np.cumsum(retrieved_class_true)\n",
    "    # Precision of retrieval list truncated at each hit, in order of pos_labels.\n",
    "    precision_at_hits = (\n",
    "            retrieved_cumulative_hits[class_rankings[pos_class_indices]] /\n",
    "            (1 + class_rankings[pos_class_indices].astype(np.float)))\n",
    "    return pos_class_indices, precision_at_hits\n",
    "\n",
    "\n",
    "def calculate_per_class_lwlrap(truth, scores):\n",
    "    \"\"\"Calculate label-weighted label-ranking average precision.\n",
    "\n",
    "    Arguments:\n",
    "      truth: np.array of (num_samples, num_classes) giving boolean ground-truth\n",
    "        of presence of that class in that sample.\n",
    "      scores: np.array of (num_samples, num_classes) giving the classifier-under-\n",
    "        test's real-valued score for each class for each sample.\n",
    "\n",
    "    Returns:\n",
    "      per_class_lwlrap: np.array of (num_classes,) giving the lwlrap for each\n",
    "        class.\n",
    "      weight_per_class: np.array of (num_classes,) giving the prior of each\n",
    "        class within the truth labels.  Then the overall unbalanced lwlrap is\n",
    "        simply np.sum(per_class_lwlrap * weight_per_class)\n",
    "    \"\"\"\n",
    "    assert truth.shape == scores.shape\n",
    "    num_samples, num_classes = scores.shape\n",
    "    # Space to store a distinct precision value for each class on each sample.\n",
    "    # Only the classes that are true for each sample will be filled in.\n",
    "    precisions_for_samples_by_classes = np.zeros((num_samples, num_classes))\n",
    "    for sample_num in range(num_samples):\n",
    "        pos_class_indices, precision_at_hits = (\n",
    "            _one_sample_positive_class_precisions(scores[sample_num, :],\n",
    "                                                  truth[sample_num, :]))\n",
    "        precisions_for_samples_by_classes[sample_num, pos_class_indices] = (\n",
    "            precision_at_hits)\n",
    "    labels_per_class = np.sum(truth > 0, axis=0)\n",
    "    weight_per_class = labels_per_class / float(np.sum(labels_per_class))\n",
    "    # Form average of each column, i.e. all the precisions assigned to labels in\n",
    "    # a particular class.\n",
    "    per_class_lwlrap = (np.sum(precisions_for_samples_by_classes, axis=0) /\n",
    "                        np.maximum(1, labels_per_class))\n",
    "    # overall_lwlrap = simple average of all the actual per-class, per-sample precisions\n",
    "    #                = np.sum(precisions_for_samples_by_classes) / np.sum(precisions_for_samples_by_classes > 0)\n",
    "    #           also = weighted mean of per-class lwlraps, weighted by class label prior across samples\n",
    "    #                = np.sum(per_class_lwlrap * weight_per_class)\n",
    "    return per_class_lwlrap, weight_per_class\n",
    "\n",
    "\n",
    "# Wrapper for fast.ai library\n",
    "def lwlrap(scores, truth, **kwargs):\n",
    "    score, weight = calculate_per_class_lwlrap(to_np(truth), to_np(scores))\n",
    "    return torch.Tensor([(score * weight).sum()])"
   ]
  },
  {
   "cell_type": "markdown",
   "metadata": {},
   "source": [
    "# Staged Training Approach\n",
    "\n",
    "1. Stage 1 - train on curated_train only + fine tune. Freeze again before next stage.\n",
    "2. Stage 2 - train and validation on noisy_train + fine-tune.\n",
    "3. Stage 3 - Inference on Test test set. Submit to kaggle to see results."
   ]
  },
  {
   "cell_type": "markdown",
   "metadata": {},
   "source": [
    "## Stage 1"
   ]
  },
  {
   "cell_type": "code",
   "execution_count": 25,
   "metadata": {},
   "outputs": [
    {
     "data": {
      "text/plain": [
       "(AudioTensor([[ 0.0000e+00, -3.0518e-05,  0.0000e+00,  ...,  0.0000e+00,\n",
       "           0.0000e+00,  0.0000e+00]]),\n",
       " TensorMultiCategory([0., 0., 0., 0., 0., 0., 0., 0., 0., 0., 0., 0., 0., 0., 0., 0., 0., 0.,\n",
       "         0., 0., 0., 0., 0., 0., 0., 0., 0., 0., 0., 0., 0., 0., 0., 0., 0., 0.,\n",
       "         0., 0., 0., 0., 0., 0., 0., 0., 0., 0., 0., 0., 0., 0., 0., 0., 0., 0.,\n",
       "         0., 0., 0., 0., 0., 0., 0., 0., 0., 0., 0., 0., 0., 0., 0., 1., 0., 0.,\n",
       "         0., 0., 0., 0., 0., 0., 0., 0.]))"
      ]
     },
     "execution_count": 25,
     "metadata": {},
     "output_type": "execute_result"
    }
   ],
   "source": [
    "def get_x(r): return r['fname']\n",
    "def get_y(r): return r['labels'].split(',') # split labels on ','\n",
    "\n",
    "dblock = DataBlock(blocks=(AudioBlock, MultiCategoryBlock),\n",
    "                    splitter=RandomSplitter(valid_pct=0.01, seed=42), # using tiny valid set, just to check. Ensure reproducibility with seed\n",
    "                    get_x=get_x,\n",
    "                    get_y=get_y,\n",
    "                    item_tfms = item_tfms)\n",
    "\n",
    "dsets = dblock.datasets(df_curated)\n",
    "dsets.train[0]"
   ]
  },
  {
   "cell_type": "code",
   "execution_count": 26,
   "metadata": {},
   "outputs": [],
   "source": [
    "dls = dblock.dataloaders(df_curated, bs=32)"
   ]
  },
  {
   "cell_type": "code",
   "execution_count": 30,
   "metadata": {
    "colab": {},
    "colab_type": "code",
    "id": "R_w2TSWRzi_-"
   },
   "outputs": [],
   "source": [
    "## Pretrained 1-channel input xresnet50 with lwl-wrap metric\n",
    "\n",
    "# on Curated achieves 77.8% lwl-wrap after train (10 epochs) and 80% after fine-tuning (10 epochs)\n",
    "# Augmentations:\n",
    "# DBMelSpec(n_mels=128, f_max=8000, n_fft=1024, hop_length=128, top_db=100)\n",
    "#[RemoveSilence(), CropSignal(4000, pad_mode='Repeat'), aud2spec, MaskTime(size=30), MaskFreq(size=10)]\n",
    "\n",
    "\n",
    "# Custom cnn model created from 1 channel input pretrained resnet50\n",
    "# torch.nn.BCEWithLogitsLoss() = Binary Cross Entropy Loss from pytorch\n",
    "# accuracy_multi for multi label\n",
    "# .to_fp16() for mixed-precision training\n",
    "\n",
    "model = create_cnn_model(xresnet50, n_in=1, n_out=80) #create custom model with 1 input channel and 80 output nodes\n",
    "\n",
    "learn = Learner(dls, model, BCEWithLogitsLossFlat(), metrics=[lwlrap]).to_fp16() # pass custom model to Learner"
   ]
  },
  {
   "cell_type": "code",
   "execution_count": 31,
   "metadata": {},
   "outputs": [
    {
     "data": {
      "text/html": [],
      "text/plain": [
       "<IPython.core.display.HTML object>"
      ]
     },
     "metadata": {},
     "output_type": "display_data"
    },
    {
     "data": {
      "text/plain": [
       "SuggestedLRs(lr_min=0.33113112449646, lr_steep=2.7542285919189453)"
      ]
     },
     "execution_count": 31,
     "metadata": {},
     "output_type": "execute_result"
    },
    {
     "data": {
      "image/png": "[encoded data removed]",
      "text/plain": [
       "<Figure size 432x288 with 1 Axes>"
      ]
     },
     "metadata": {
      "needs_background": "light"
     },
     "output_type": "display_data"
    }
   ],
   "source": [
    "# find the learning rate\n",
    "learn.lr_find()"
   ]
  },
  {
   "cell_type": "code",
   "execution_count": 32,
   "metadata": {},
   "outputs": [
    {
     "data": {
      "text/html": [
       "<table border=\"1\" class=\"dataframe\">\n",
       "  <thead>\n",
       "    <tr style=\"text-align: left;\">\n",
       "      <th>epoch</th>\n",
       "      <th>train_loss</th>\n",
       "      <th>valid_loss</th>\n",
       "      <th>lwlrap</th>\n",
       "      <th>time</th>\n",
       "    </tr>\n",
       "  </thead>\n",
       "  <tbody>\n",
       "    <tr>\n",
       "      <td>0</td>\n",
       "      <td>0.160001</td>\n",
       "      <td>0.083011</td>\n",
       "      <td>0.136002</td>\n",
       "      <td>01:41</td>\n",
       "    </tr>\n",
       "    <tr>\n",
       "      <td>1</td>\n",
       "      <td>0.084493</td>\n",
       "      <td>0.061802</td>\n",
       "      <td>0.230116</td>\n",
       "      <td>01:41</td>\n",
       "    </tr>\n",
       "    <tr>\n",
       "      <td>2</td>\n",
       "      <td>0.066440</td>\n",
       "      <td>0.063905</td>\n",
       "      <td>0.183771</td>\n",
       "      <td>01:41</td>\n",
       "    </tr>\n",
       "    <tr>\n",
       "      <td>3</td>\n",
       "      <td>0.064377</td>\n",
       "      <td>0.076081</td>\n",
       "      <td>0.159367</td>\n",
       "      <td>01:41</td>\n",
       "    </tr>\n",
       "    <tr>\n",
       "      <td>4</td>\n",
       "      <td>0.061002</td>\n",
       "      <td>0.056014</td>\n",
       "      <td>0.282133</td>\n",
       "      <td>01:41</td>\n",
       "    </tr>\n",
       "    <tr>\n",
       "      <td>5</td>\n",
       "      <td>0.055174</td>\n",
       "      <td>0.044678</td>\n",
       "      <td>0.469718</td>\n",
       "      <td>01:41</td>\n",
       "    </tr>\n",
       "    <tr>\n",
       "      <td>6</td>\n",
       "      <td>0.048934</td>\n",
       "      <td>0.035662</td>\n",
       "      <td>0.602338</td>\n",
       "      <td>01:41</td>\n",
       "    </tr>\n",
       "    <tr>\n",
       "      <td>7</td>\n",
       "      <td>0.041731</td>\n",
       "      <td>0.030007</td>\n",
       "      <td>0.699167</td>\n",
       "      <td>01:41</td>\n",
       "    </tr>\n",
       "    <tr>\n",
       "      <td>8</td>\n",
       "      <td>0.037802</td>\n",
       "      <td>0.026958</td>\n",
       "      <td>0.759344</td>\n",
       "      <td>01:41</td>\n",
       "    </tr>\n",
       "    <tr>\n",
       "      <td>9</td>\n",
       "      <td>0.034515</td>\n",
       "      <td>0.026535</td>\n",
       "      <td>0.787064</td>\n",
       "      <td>01:41</td>\n",
       "    </tr>\n",
       "  </tbody>\n",
       "</table>"
      ],
      "text/plain": [
       "<IPython.core.display.HTML object>"
      ]
     },
     "metadata": {},
     "output_type": "display_data"
    }
   ],
   "source": [
    "# fit with one_cyle learning rate policy\n",
    "learn.fit_one_cycle(10, 4e-2)"
   ]
  },
  {
   "cell_type": "code",
   "execution_count": 33,
   "metadata": {},
   "outputs": [],
   "source": [
    "# Save the stage 1 model to allow quick fine tuning experimentation\n",
    "learn.save('xresnet50-stage-1-model-curated-frozen')"
   ]
  },
  {
   "cell_type": "markdown",
   "metadata": {},
   "source": [
    "Now let's unfreeze the base model and train on the whole network:"
   ]
  },
  {
   "cell_type": "code",
   "execution_count": 34,
   "metadata": {},
   "outputs": [
    {
     "data": {
      "text/html": [],
      "text/plain": [
       "<IPython.core.display.HTML object>"
      ]
     },
     "metadata": {},
     "output_type": "display_data"
    },
    {
     "data": {
      "text/plain": [
       "SuggestedLRs(lr_min=0.002754228748381138, lr_steep=2.75422871709452e-06)"
      ]
     },
     "execution_count": 34,
     "metadata": {},
     "output_type": "execute_result"
    },
    {
     "data": {
      "image/png": "[encoded data removed]",
      "text/plain": [
       "<Figure size 432x288 with 1 Axes>"
      ]
     },
     "metadata": {
      "needs_background": "light"
     },
     "output_type": "display_data"
    }
   ],
   "source": [
    "learn.unfreeze()\n",
    "learn.lr_find()"
   ]
  },
  {
   "cell_type": "code",
   "execution_count": 35,
   "metadata": {},
   "outputs": [
    {
     "data": {
      "text/html": [
       "<table border=\"1\" class=\"dataframe\">\n",
       "  <thead>\n",
       "    <tr style=\"text-align: left;\">\n",
       "      <th>epoch</th>\n",
       "      <th>train_loss</th>\n",
       "      <th>valid_loss</th>\n",
       "      <th>lwlrap</th>\n",
       "      <th>time</th>\n",
       "    </tr>\n",
       "  </thead>\n",
       "  <tbody>\n",
       "    <tr>\n",
       "      <td>0</td>\n",
       "      <td>0.033712</td>\n",
       "      <td>0.025769</td>\n",
       "      <td>0.803715</td>\n",
       "      <td>01:41</td>\n",
       "    </tr>\n",
       "    <tr>\n",
       "      <td>1</td>\n",
       "      <td>0.034423</td>\n",
       "      <td>0.025337</td>\n",
       "      <td>0.794640</td>\n",
       "      <td>01:41</td>\n",
       "    </tr>\n",
       "    <tr>\n",
       "      <td>2</td>\n",
       "      <td>0.034027</td>\n",
       "      <td>0.024991</td>\n",
       "      <td>0.803438</td>\n",
       "      <td>01:41</td>\n",
       "    </tr>\n",
       "    <tr>\n",
       "      <td>3</td>\n",
       "      <td>0.033342</td>\n",
       "      <td>0.024413</td>\n",
       "      <td>0.789025</td>\n",
       "      <td>01:41</td>\n",
       "    </tr>\n",
       "    <tr>\n",
       "      <td>4</td>\n",
       "      <td>0.031464</td>\n",
       "      <td>0.024061</td>\n",
       "      <td>0.826310</td>\n",
       "      <td>01:41</td>\n",
       "    </tr>\n",
       "    <tr>\n",
       "      <td>5</td>\n",
       "      <td>0.030797</td>\n",
       "      <td>0.021494</td>\n",
       "      <td>0.828414</td>\n",
       "      <td>01:41</td>\n",
       "    </tr>\n",
       "    <tr>\n",
       "      <td>6</td>\n",
       "      <td>0.030222</td>\n",
       "      <td>0.022914</td>\n",
       "      <td>0.812671</td>\n",
       "      <td>01:41</td>\n",
       "    </tr>\n",
       "    <tr>\n",
       "      <td>7</td>\n",
       "      <td>0.029228</td>\n",
       "      <td>0.022603</td>\n",
       "      <td>0.828058</td>\n",
       "      <td>01:41</td>\n",
       "    </tr>\n",
       "    <tr>\n",
       "      <td>8</td>\n",
       "      <td>0.028673</td>\n",
       "      <td>0.021759</td>\n",
       "      <td>0.831450</td>\n",
       "      <td>01:41</td>\n",
       "    </tr>\n",
       "    <tr>\n",
       "      <td>9</td>\n",
       "      <td>0.027791</td>\n",
       "      <td>0.023231</td>\n",
       "      <td>0.821655</td>\n",
       "      <td>01:41</td>\n",
       "    </tr>\n",
       "  </tbody>\n",
       "</table>"
      ],
      "text/plain": [
       "<IPython.core.display.HTML object>"
      ]
     },
     "metadata": {},
     "output_type": "display_data"
    }
   ],
   "source": [
    "learn.fit_one_cycle(10, lr_max=slice(3e-5,3e-3))"
   ]
  },
  {
   "cell_type": "code",
   "execution_count": 38,
   "metadata": {},
   "outputs": [],
   "source": [
    "# Freeze and Save the stage 2 model after fine-tuning\n",
    "learn.freeze()\n",
    "learn.save('xresnet50-stage-2-model-curated-tuned-frozen')"
   ]
  },
  {
   "cell_type": "markdown",
   "metadata": {},
   "source": [
    "## Stage 2"
   ]
  },
  {
   "cell_type": "code",
   "execution_count": 39,
   "metadata": {},
   "outputs": [
    {
     "data": {
      "text/plain": [
       "(AudioTensor([[-9.1553e-05, -6.1035e-05, -9.1553e-05,  ..., -4.2725e-03,\n",
       "          -6.0120e-03, -6.9275e-03]]),\n",
       " TensorMultiCategory([0., 0., 0., 0., 0., 0., 0., 0., 0., 0., 0., 0., 0., 0., 0., 0., 0., 0.,\n",
       "         0., 0., 0., 0., 0., 0., 0., 1., 0., 0., 0., 0., 0., 0., 0., 0., 0., 0.,\n",
       "         0., 0., 0., 0., 0., 0., 0., 0., 0., 0., 0., 0., 0., 0., 0., 0., 0., 0.,\n",
       "         0., 0., 0., 0., 0., 0., 0., 0., 0., 0., 0., 0., 0., 0., 0., 0., 0., 0.,\n",
       "         0., 0., 0., 0., 0., 0., 0., 0.]))"
      ]
     },
     "execution_count": 39,
     "metadata": {},
     "output_type": "execute_result"
    }
   ],
   "source": [
    "# define new noisy data subset using RandomSubsetSplitter if wanting smaller data subet\n",
    "\n",
    "def get_x(r): return r['fname']\n",
    "def get_y(r): return r['labels'].split(',') # split labels on ','\n",
    "\n",
    "dblock = DataBlock(blocks=(AudioBlock, MultiCategoryBlock),\n",
    "                    splitter=RandomSubsetSplitter(train_sz=0.8, valid_sz=0.2, seed=42), # split into smaller subsets for faster experimentation, reproducibility with seed\n",
    "                    get_x=get_x,\n",
    "                    get_y=get_y,\n",
    "                    item_tfms = item_tfms)\n",
    "\n",
    "dsets = dblock.datasets(df_noisy)\n",
    "dsets.train[0]"
   ]
  },
  {
   "cell_type": "code",
   "execution_count": 40,
   "metadata": {},
   "outputs": [],
   "source": [
    "dls = dblock.dataloaders(df_noisy, bs=32)"
   ]
  },
  {
   "cell_type": "code",
   "execution_count": 44,
   "metadata": {},
   "outputs": [],
   "source": [
    "# Load weights from saved model and pass new noisy data\n",
    "\n",
    "model = create_cnn_model(xresnet50, n_in=1, n_out=80) #create custom model with 1 input channel and 80 output nodes\n",
    "\n",
    "learn = Learner(dls, model, BCEWithLogitsLossFlat(), metrics=[lwlrap]).to_fp16() # pass custom model to Learner\n",
    "\n",
    "learn = learn.load('xresnet50-stage-2-model-curated-tuned-frozen')"
   ]
  },
  {
   "cell_type": "code",
   "execution_count": 45,
   "metadata": {},
   "outputs": [
    {
     "data": {
      "text/html": [],
      "text/plain": [
       "<IPython.core.display.HTML object>"
      ]
     },
     "metadata": {},
     "output_type": "display_data"
    },
    {
     "data": {
      "text/plain": [
       "SuggestedLRs(lr_min=0.006918309628963471, lr_steep=2.0892961401841603e-05)"
      ]
     },
     "execution_count": 45,
     "metadata": {},
     "output_type": "execute_result"
    },
    {
     "data": {
      "image/png": "[encoded data removed]",
      "text/plain": [
       "<Figure size 432x288 with 1 Axes>"
      ]
     },
     "metadata": {
      "needs_background": "light"
     },
     "output_type": "display_data"
    }
   ],
   "source": [
    "# find the learning rate\n",
    "learn.lr_find()"
   ]
  },
  {
   "cell_type": "code",
   "execution_count": null,
   "metadata": {},
   "outputs": [
    {
     "data": {
      "text/html": [
       "\n",
       "    <div>\n",
       "        <style>\n",
       "            /* Turns off some styling */\n",
       "            progress {\n",
       "                /* gets rid of default border in Firefox and Opera. */\n",
       "                border: none;\n",
       "                /* Needs to be in here for Safari polyfill so background images work as expected. */\n",
       "                background-size: auto;\n",
       "            }\n",
       "            .progress-bar-interrupted, .progress-bar-interrupted::-webkit-progress-bar {\n",
       "                background: #F44336;\n",
       "            }\n",
       "        </style>\n",
       "      <progress value='0' class='' max='10', style='width:300px; height:20px; vertical-align: middle;'></progress>\n",
       "      0.00% [0/10 00:00<00:00]\n",
       "    </div>\n",
       "    \n",
       "<table border=\"1\" class=\"dataframe\">\n",
       "  <thead>\n",
       "    <tr style=\"text-align: left;\">\n",
       "      <th>epoch</th>\n",
       "      <th>train_loss</th>\n",
       "      <th>valid_loss</th>\n",
       "      <th>lwlrap</th>\n",
       "      <th>time</th>\n",
       "    </tr>\n",
       "  </thead>\n",
       "  <tbody>\n",
       "  </tbody>\n",
       "</table><p>\n",
       "\n",
       "    <div>\n",
       "        <style>\n",
       "            /* Turns off some styling */\n",
       "            progress {\n",
       "                /* gets rid of default border in Firefox and Opera. */\n",
       "                border: none;\n",
       "                /* Needs to be in here for Safari polyfill so background images work as expected. */\n",
       "                background-size: auto;\n",
       "            }\n",
       "            .progress-bar-interrupted, .progress-bar-interrupted::-webkit-progress-bar {\n",
       "                background: #F44336;\n",
       "            }\n",
       "        </style>\n",
       "      <progress value='34' class='' max='495', style='width:300px; height:20px; vertical-align: middle;'></progress>\n",
       "      6.87% [34/495 00:28<06:26 0.1009]\n",
       "    </div>\n",
       "    "
      ],
      "text/plain": [
       "<IPython.core.display.HTML object>"
      ]
     },
     "metadata": {},
     "output_type": "display_data"
    }
   ],
   "source": [
    "# fit frozen (base) network with one_cycle learning rate policy\n",
    "learn.fit_one_cycle(10, 1e-2)"
   ]
  },
  {
   "cell_type": "code",
   "execution_count": null,
   "metadata": {},
   "outputs": [],
   "source": [
    "# Save the stage 3 model to allow quick fine tuning experimentation\n",
    "learn.save('xresnet50-stage-3-model-noisy-frozen')"
   ]
  },
  {
   "cell_type": "markdown",
   "metadata": {},
   "source": [
    "Now let's unfreeze the base model again and train on the whole network:"
   ]
  },
  {
   "cell_type": "code",
   "execution_count": null,
   "metadata": {},
   "outputs": [],
   "source": [
    "learn.unfreeze()\n",
    "learn.lr_find()"
   ]
  },
  {
   "cell_type": "code",
   "execution_count": null,
   "metadata": {},
   "outputs": [],
   "source": [
    "learn.fit_one_cycle(10, lr_max=slice(1e-5,1e-3))"
   ]
  },
  {
   "cell_type": "code",
   "execution_count": null,
   "metadata": {},
   "outputs": [],
   "source": [
    "# Save the stage 4 model\n",
    "learn.save('xresnet50-stage-4-model-noisy-tuned-frozen')"
   ]
  },
  {
   "cell_type": "markdown",
   "metadata": {},
   "source": [
    "## Test model on Test set and upload to Kaggle to see results"
   ]
  },
  {
   "cell_type": "code",
   "execution_count": null,
   "metadata": {},
   "outputs": [],
   "source": [
    "# create Test set data\n",
    "# need to unzip file and create dataframe then dataloader\n",
    "\n",
    "\n",
    "\n",
    "\n"
   ]
  },
  {
   "cell_type": "code",
   "execution_count": null,
   "metadata": {},
   "outputs": [],
   "source": [
    "# Load weights from saved model and pass test set data\n",
    "\n",
    "model = create_cnn_model(xresnet50, n_in=1, n_out=80) #create custom model with 1 input channel and 80 output nodes\n",
    "\n",
    "learn = Learner(dls, model, BCEWithLogitsLossFlat(), metrics=[lwlrap]).to_fp16() # pass custom model to Learner\n",
    "\n",
    "learn = learn.load('xresnet50-stage-2-model-curated-tuned-frozen')"
   ]
  },
  {
   "cell_type": "code",
   "execution_count": null,
   "metadata": {},
   "outputs": [],
   "source": [
    "learn.export()"
   ]
  },
  {
   "cell_type": "code",
   "execution_count": null,
   "metadata": {},
   "outputs": [],
   "source": [
    "learn.predict()"
   ]
  },
  {
   "cell_type": "markdown",
   "metadata": {},
   "source": [
    "## Training results from Dataset 2 - Subset of Noisy dataset"
   ]
  },
  {
   "cell_type": "code",
   "execution_count": null,
   "metadata": {},
   "outputs": [],
   "source": [
    "# define data subset using RandomSubsetSplitter\n",
    "\n",
    "def get_x(r): return r['fname']\n",
    "def get_y(r): return r['labels'].split(',') # split labels on ','\n",
    "\n",
    "dblock = DataBlock(blocks=(AudioBlock, MultiCategoryBlock),\n",
    "                    splitter=RandomSubsetSplitter(train_sz=0.2, valid_sz=0.05, seed=42), # split into smaller subsets for faster experimentation, reproducibility with seed\n",
    "                    get_x=get_x,\n",
    "                    get_y=get_y,\n",
    "                    item_tfms = item_tfms)\n",
    "\n",
    "dsets = dblock.datasets(df_noisy)\n",
    "dsets.train[0]"
   ]
  },
  {
   "cell_type": "code",
   "execution_count": null,
   "metadata": {},
   "outputs": [],
   "source": [
    "dls = dblock.dataloaders(df_noisy, bs=32)"
   ]
  },
  {
   "cell_type": "code",
   "execution_count": null,
   "metadata": {},
   "outputs": [],
   "source": [
    "### OPTION 1 - Pretrained 1-channel input xresnet50 with lwl-wrap metric\n",
    "\n",
    "# !!Worse than xse_resnet50()\n",
    "\n",
    "# Achieves 42% lwl-wrap after train (10 epochs) + fine-tune (10 epochs)\n",
    "# Augmentations:\n",
    "# DBMelSpec(n_mels=128, f_max=8000, n_fft=1024, hop_length=128, top_db=100)\n",
    "#[RemoveSilence(), CropSignal(2000, pad_mode='Repeat'), aud2spec, MaskTime(size=30), MaskFreq(size=10)]\n",
    "\n",
    "\n",
    "# Custom cnn model created from 1 channel input pretrained resnet50\n",
    "# torch.nn.BCEWithLogitsLoss() = Binary Cross Entropy Loss from pytorch\n",
    "# accuracy_multi for multi label\n",
    "# .to_fp16() for mixed-precision training\n",
    "\n",
    "model = create_cnn_model(xresnet50, n_in=1, n_out=80) #create custom model with 1 input channel and 80 output nodes\n",
    "\n",
    "learn = Learner(dls, model, BCEWithLogitsLossFlat(), metrics=[lwlrap]).to_fp16() # pass custom model to Learner"
   ]
  },
  {
   "cell_type": "code",
   "execution_count": null,
   "metadata": {},
   "outputs": [],
   "source": [
    "### OPTION 2 - Pretrained 1-channel input xse_resnet50 with lwl-wrap metric\n",
    "\n",
    "# Achieves 42% after train (10 epochs) no fine-tune - much worse than curated train set-- augmentations?\n",
    "# Augmentation:\n",
    "# Same as option 1\n",
    "\n",
    "# Custom cnn model created from 1 channel input pretrained resnet50\n",
    "# torch.nn.BCEWithLogitsLoss() = Binary Cross Entropy Loss from pytorch\n",
    "# accuracy_multi for multi label\n",
    "# .to_fp16() for mixed-precision training\n",
    "\n",
    "learn = Learner(dls, xse_resnet50(c_in=1, n_out=80, pretrained=True), BCEWithLogitsLossFlat(), metrics=[lwlrap]).to_fp16() # pass custom model to Learner"
   ]
  },
  {
   "cell_type": "code",
   "execution_count": null,
   "metadata": {},
   "outputs": [],
   "source": [
    "# find the learning rate\n",
    "learn.lr_find()"
   ]
  },
  {
   "cell_type": "code",
   "execution_count": null,
   "metadata": {},
   "outputs": [],
   "source": [
    "# fit with one_cyle learning rate policy\n",
    "learn.fit_one_cycle(10, 4e-2)"
   ]
  },
  {
   "cell_type": "code",
   "execution_count": null,
   "metadata": {},
   "outputs": [],
   "source": [
    "# Save the stage 1 model to allow quick fine tuning experimentation\n",
    "learn.save('noisy-subset-stage-1-model')"
   ]
  },
  {
   "cell_type": "markdown",
   "metadata": {},
   "source": [
    "Now let's unfreeze the base model and train on the whole network:"
   ]
  },
  {
   "cell_type": "code",
   "execution_count": null,
   "metadata": {},
   "outputs": [],
   "source": [
    "learn.unfreeze()\n",
    "learn.lr_find()"
   ]
  },
  {
   "cell_type": "code",
   "execution_count": null,
   "metadata": {},
   "outputs": [],
   "source": [
    "learn.fit_one_cycle(10, lr_max=slice(1e-4,1e-3))"
   ]
  },
  {
   "cell_type": "code",
   "execution_count": null,
   "metadata": {},
   "outputs": [],
   "source": [
    "# Save the stage 2 model after fine-tuning\n",
    "learn.save('noisy-subset-datasets-stage-2')"
   ]
  },
  {
   "cell_type": "markdown",
   "metadata": {},
   "source": [
    "## Comparison of model performance and analysis\n",
    "\n",
    "\n",
    "New approach\n",
    "\n",
    "1. Stage 1 - Train pretrained xresnet50 on curated train set frozen + then finetune. Freeze base.\n",
    "2. Stage 2 - Split noisy train set into train + valid - frozen train and finetune\n",
    "3. Stage 3 - Test on Test Set - upload to Kaggle to see results\n",
    "\n",
    "**Performance??**\n",
    "\n",
    "\n",
    "\n",
    "\n",
    "\n",
    "\n",
    "\n",
    "As can be seen from the above results, with the same model and augmentation parameters we get the following results:\n",
    "\n",
    "* **Curated Train Data** - 77.5%\n",
    "* **Noisy Train Data** - approx. 52%\n",
    "* **Combined data - Curated + Noisy** - approx. 61%\n",
    "\n",
    "\n",
    "As can be seen from the above, the best performance was acheived with the ... dataset and the worst with the ... dataset. Therefore it is presumed the Train and Noisy datasets are quite mismatched in their distributions. \n",
    "\n",
    "\n",
    "\n",
    "_\"There may be many technical reasons for your observations; the most likely is that the two datasets do not have the same distributions even though they were provided by the same source (did you perform a Wilcoxon Mann Whitney hypothesis test of identity of the distributions? Did you try to train classifiers on dataset 1 an test them on dataset 2, and conversely thain on dataset 2 and test on dataset 1); or, there is a problem with the method you use for selecting the hyperparameters of the classifiers; or, the estimation of the performance by cross-validation is inaccurate for the small dataset (10-fold cross-validation on dataset 1 gives small validation tests; did you look at the variance of the validation test performances? Did you try leave-one-out cross-validation?); or, you have a class imbalance problem (your results on dataset 2 are just slightly above random classification assuming that the classes are balanced). This is not an exhaustive list; you need to examine critically each step and each assumption of your methodology.\"_\n"
   ]
  },
  {
   "cell_type": "code",
   "execution_count": null,
   "metadata": {},
   "outputs": [],
   "source": []
  }
 ],
 "metadata": {
  "accelerator": "GPU",
  "colab": {
   "collapsed_sections": [
    "g5ZLivT8Ie_M",
    "F6sQdVtrsWHG",
    "4_p0MGBxsWHL",
    "VlbLIQoQsWHr",
    "aFrXfbOlsWIB"
   ],
   "include_colab_link": true,
   "name": "udacity_mlend_capstone-fastai2_deploy_sagemaker-colab_dev.ipynb",
   "provenance": [],
   "toc_visible": true
  },
  "kernelspec": {
   "display_name": "Python 3",
   "language": "python",
   "name": "python3"
  },
  "language_info": {
   "codemirror_mode": {
    "name": "ipython",
    "version": 3
   },
   "file_extension": ".py",
   "mimetype": "text/x-python",
   "name": "python",
   "nbconvert_exporter": "python",
   "pygments_lexer": "ipython3",
   "version": "3.7.6"
  },
  "widgets": {
   "application/vnd.jupyter.widget-state+json": {
    "0143607ae88842859becf9ae382e783c": {
     "model_module": "@jupyter-widgets/controls",
     "model_name": "ProgressStyleModel",
     "state": {
      "_model_module": "@jupyter-widgets/controls",
      "_model_module_version": "1.5.0",
      "_model_name": "ProgressStyleModel",
      "_view_count": null,
      "_view_module": "@jupyter-widgets/base",
      "_view_module_version": "1.2.0",
      "_view_name": "StyleView",
      "bar_color": null,
      "description_width": "initial"
     }
    },
    "0ee3b41eb25e4e4ba9cea01be0de6135": {
     "model_module": "@jupyter-widgets/base",
     "model_name": "LayoutModel",
     "state": {
      "_model_module": "@jupyter-widgets/base",
      "_model_module_version": "1.2.0",
      "_model_name": "LayoutModel",
      "_view_count": null,
      "_view_module": "@jupyter-widgets/base",
      "_view_module_version": "1.2.0",
      "_view_name": "LayoutView",
      "align_content": null,
      "align_items": null,
      "align_self": null,
      "border": null,
      "bottom": null,
      "display": null,
      "flex": null,
      "flex_flow": null,
      "grid_area": null,
      "grid_auto_columns": null,
      "grid_auto_flow": null,
      "grid_auto_rows": null,
      "grid_column": null,
      "grid_gap": null,
      "grid_row": null,
      "grid_template_areas": null,
      "grid_template_columns": null,
      "grid_template_rows": null,
      "height": null,
      "justify_content": null,
      "justify_items": null,
      "left": null,
      "margin": null,
      "max_height": null,
      "max_width": null,
      "min_height": null,
      "min_width": null,
      "object_fit": null,
      "object_position": null,
      "order": null,
      "overflow": null,
      "overflow_x": null,
      "overflow_y": null,
      "padding": null,
      "right": null,
      "top": null,
      "visibility": null,
      "width": null
     }
    },
    "2d2edec2c420428f80586678b728394d": {
     "model_module": "@jupyter-widgets/base",
     "model_name": "LayoutModel",
     "state": {
      "_model_module": "@jupyter-widgets/base",
      "_model_module_version": "1.2.0",
      "_model_name": "LayoutModel",
      "_view_count": null,
      "_view_module": "@jupyter-widgets/base",
      "_view_module_version": "1.2.0",
      "_view_name": "LayoutView",
      "align_content": null,
      "align_items": null,
      "align_self": null,
      "border": null,
      "bottom": null,
      "display": null,
      "flex": null,
      "flex_flow": null,
      "grid_area": null,
      "grid_auto_columns": null,
      "grid_auto_flow": null,
      "grid_auto_rows": null,
      "grid_column": null,
      "grid_gap": null,
      "grid_row": null,
      "grid_template_areas": null,
      "grid_template_columns": null,
      "grid_template_rows": null,
      "height": null,
      "justify_content": null,
      "justify_items": null,
      "left": null,
      "margin": null,
      "max_height": null,
      "max_width": null,
      "min_height": null,
      "min_width": null,
      "object_fit": null,
      "object_position": null,
      "order": null,
      "overflow": null,
      "overflow_x": null,
      "overflow_y": null,
      "padding": null,
      "right": null,
      "top": null,
      "visibility": null,
      "width": null
     }
    },
    "411ee3d0523143109a0506219713dacb": {
     "model_module": "@jupyter-widgets/controls",
     "model_name": "DescriptionStyleModel",
     "state": {
      "_model_module": "@jupyter-widgets/controls",
      "_model_module_version": "1.5.0",
      "_model_name": "DescriptionStyleModel",
      "_view_count": null,
      "_view_module": "@jupyter-widgets/base",
      "_view_module_version": "1.2.0",
      "_view_name": "StyleView",
      "description_width": ""
     }
    },
    "4be2346d52094910bbf2006922473b0a": {
     "model_module": "@jupyter-widgets/controls",
     "model_name": "IntProgressModel",
     "state": {
      "_dom_classes": [],
      "_model_module": "@jupyter-widgets/controls",
      "_model_module_version": "1.5.0",
      "_model_name": "IntProgressModel",
      "_view_count": null,
      "_view_module": "@jupyter-widgets/controls",
      "_view_module_version": "1.5.0",
      "_view_name": "ProgressView",
      "bar_style": "success",
      "description": "100%",
      "description_tooltip": null,
      "layout": "IPY_MODEL_2d2edec2c420428f80586678b728394d",
      "max": 46827520,
      "min": 0,
      "orientation": "horizontal",
      "style": "IPY_MODEL_0143607ae88842859becf9ae382e783c",
      "value": 46827520
     }
    },
    "51d746e2c9e140aab1ff0b2913c12a9f": {
     "model_module": "@jupyter-widgets/controls",
     "model_name": "HTMLModel",
     "state": {
      "_dom_classes": [],
      "_model_module": "@jupyter-widgets/controls",
      "_model_module_version": "1.5.0",
      "_model_name": "HTMLModel",
      "_view_count": null,
      "_view_module": "@jupyter-widgets/controls",
      "_view_module_version": "1.5.0",
      "_view_name": "HTMLView",
      "description": "",
      "description_tooltip": null,
      "layout": "IPY_MODEL_0ee3b41eb25e4e4ba9cea01be0de6135",
      "placeholder": "​",
      "style": "IPY_MODEL_411ee3d0523143109a0506219713dacb",
      "value": " 44.7M/44.7M [01:04&lt;00:00, 723kB/s]"
     }
    },
    "681b988fa8334cbc8a183253365db04e": {
     "model_module": "@jupyter-widgets/controls",
     "model_name": "HBoxModel",
     "state": {
      "_dom_classes": [],
      "_model_module": "@jupyter-widgets/controls",
      "_model_module_version": "1.5.0",
      "_model_name": "HBoxModel",
      "_view_count": null,
      "_view_module": "@jupyter-widgets/controls",
      "_view_module_version": "1.5.0",
      "_view_name": "HBoxView",
      "box_style": "",
      "children": [
       "IPY_MODEL_4be2346d52094910bbf2006922473b0a",
       "IPY_MODEL_51d746e2c9e140aab1ff0b2913c12a9f"
      ],
      "layout": "IPY_MODEL_8fcbdae438514b80b9c972f9c02d77ff"
     }
    },
    "8fcbdae438514b80b9c972f9c02d77ff": {
     "model_module": "@jupyter-widgets/base",
     "model_name": "LayoutModel",
     "state": {
      "_model_module": "@jupyter-widgets/base",
      "_model_module_version": "1.2.0",
      "_model_name": "LayoutModel",
      "_view_count": null,
      "_view_module": "@jupyter-widgets/base",
      "_view_module_version": "1.2.0",
      "_view_name": "LayoutView",
      "align_content": null,
      "align_items": null,
      "align_self": null,
      "border": null,
      "bottom": null,
      "display": null,
      "flex": null,
      "flex_flow": null,
      "grid_area": null,
      "grid_auto_columns": null,
      "grid_auto_flow": null,
      "grid_auto_rows": null,
      "grid_column": null,
      "grid_gap": null,
      "grid_row": null,
      "grid_template_areas": null,
      "grid_template_columns": null,
      "grid_template_rows": null,
      "height": null,
      "justify_content": null,
      "justify_items": null,
      "left": null,
      "margin": null,
      "max_height": null,
      "max_width": null,
      "min_height": null,
      "min_width": null,
      "object_fit": null,
      "object_position": null,
      "order": null,
      "overflow": null,
      "overflow_x": null,
      "overflow_y": null,
      "padding": null,
      "right": null,
      "top": null,
      "visibility": null,
      "width": null
     }
    }
   }
  }
 },
 "nbformat": 4,
 "nbformat_minor": 4
}
